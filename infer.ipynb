{
 "cells": [
  {
   "cell_type": "code",
   "execution_count": 1,
   "metadata": {},
   "outputs": [
    {
     "name": "stdout",
     "output_type": "stream",
     "text": [
      "Jupyter environment detected. Enabling Open3D WebVisualizer.\n",
      "[Open3D INFO] WebRTC GUI backend enabled.\n",
      "[Open3D INFO] WebRTCWindowSystem: HTTP handshake server disabled.\n"
     ]
    },
    {
     "name": "stderr",
     "output_type": "stream",
     "text": [
      "/usr/local/lib/python3.8/dist-packages/mmdet3d/evaluation/functional/kitti_utils/eval.py:10: NumbaDeprecationWarning: \u001b[1mThe 'nopython' keyword argument was not supplied to the 'numba.jit' decorator. The implicit default value for this argument is currently False, but it will be changed to True in Numba 0.59.0. See https://numba.readthedocs.io/en/stable/reference/deprecation.html#deprecation-of-object-mode-fall-back-behaviour-when-using-jit for details.\u001b[0m\n",
      "  def get_thresholds(scores: np.ndarray, num_gt, num_sample_pts=41):\n"
     ]
    }
   ],
   "source": [
    "import os\n",
    "import re\n",
    "import supervisely as sly\n",
    "from mmengine.config import Config\n",
    "from mmdet3d.apis import LidarDet3DInferencer\n",
    "from src.tests.extract_weights_url import find_weights_url\n",
    "from src.sly_utils import download_point_cloud, upload_point_cloud\n",
    "from src.inference.pcd_inferencer import PcdDet3DInferencer\n",
    "from src.inference.functional import create_sly_annotation, up_bbox3d, filter_by_confidence\n",
    "from src.pcd_utils import convert_bin_to_pcd\n",
    "\n",
    "\n",
    "# globals    \n",
    "api = sly.Api()\n",
    "project_id = 32768\n",
    "dataset_id = 81541\n",
    "project_meta = sly.ProjectMeta.from_json(api.project.get_meta(project_id))"
   ]
  },
  {
   "cell_type": "code",
   "execution_count": 2,
   "metadata": {},
   "outputs": [],
   "source": [
    "def get_last_pth_weights():\n",
    "    base_path = \"app_data/work_dir/\"\n",
    "    weights = [os.path.join(base_path, f) for f in os.listdir(base_path) if f.endswith(\".pth\")]\n",
    "    return max(weights, key=os.path.getctime)\n",
    "\n",
    "def get_last_config():\n",
    "    base_path = \"app_data/work_dir/\"\n",
    "    # get last dir in work_dir by name\n",
    "    dirs = [os.path.join(base_path, f) for f in os.listdir(base_path) if os.path.isdir(os.path.join(base_path, f))]\n",
    "    dir = sorted(dirs)[-1]\n",
    "    config = os.path.join(dir, \"vis_data\", \"config.py\")\n",
    "    return config"
   ]
  },
  {
   "cell_type": "code",
   "execution_count": 25,
   "metadata": {},
   "outputs": [
    {
     "name": "stdout",
     "output_type": "stream",
     "text": [
      "weights_url:  app_data/work_dir/epoch_40.pth\n",
      "cfg_model:  app_data/work_dir/20240131_165611/vis_data/config.py\n",
      "weights_url created:  2024-01-31 16:59:59.898036\n"
     ]
    }
   ],
   "source": [
    "# Model\n",
    "weights_url = \"app_data/work_dir/epoch_10-pointpillars.pth\"\n",
    "cfg_model = \"app_data/work_dir/20231215_125044-pointpillars/vis_data/config.py\"\n",
    "\n",
    "weights_url = \"app_data/work_dir/epoch_20-centerpoint.pth\"\n",
    "cfg_model = \"app_data/work_dir/20231214_142029-centerpoint/vis_data/config.py\"\n",
    "\n",
    "weights_url = get_last_pth_weights()\n",
    "cfg_model = get_last_config()\n",
    "\n",
    "print(\"weights_url: \", weights_url)\n",
    "print(\"cfg_model: \", cfg_model)\n",
    "\n",
    "import datetime\n",
    "time = datetime.datetime.fromtimestamp(os.path.getctime(weights_url))\n",
    "print(\"weights_url created: \", time)\n",
    "\n",
    "# model_index = \"mmdetection3d/model-index.yml\"\n",
    "# weights_url = find_weights_url(model_index, re.sub(\"_custom.*\\.py\", \".py\", cfg_model))"
   ]
  },
  {
   "cell_type": "code",
   "execution_count": 4,
   "metadata": {},
   "outputs": [],
   "source": [
    "# To import projects\n",
    "import os, sys\n",
    "sys.path.append(os.path.abspath(\"mmdetection3d\"))"
   ]
  },
  {
   "cell_type": "code",
   "execution_count": 20,
   "metadata": {},
   "outputs": [],
   "source": [
    "import mmengine\n",
    "data_info = mmengine.load(\"app_data/smarttool_crops_tiny/infos_train.pkl\")"
   ]
  },
  {
   "cell_type": "code",
   "execution_count": 27,
   "metadata": {},
   "outputs": [
    {
     "data": {
      "application/vnd.jupyter.widget-view+json": {
       "model_id": "9babd439e1a04599995c9a98b4d41af7",
       "version_major": 2,
       "version_minor": 0
      },
      "text/plain": [
       "Output()"
      ]
     },
     "metadata": {},
     "output_type": "display_data"
    },
    {
     "name": "stdout",
     "output_type": "stream",
     "text": [
      "Model class names: ['Car']\n",
      "Loads checkpoint by local backend from path: app_data/work_dir/epoch_40.pth\n",
      "self.METAINFO['classes']=['Car'], self.label_mapping={0: 0, -1: -1}\n"
     ]
    },
    {
     "data": {
      "text/html": [
       "<pre style=\"white-space:pre;overflow-x:auto;line-height:normal;font-family:Menlo,'DejaVu Sans Mono',consolas,'Courier New',monospace\"></pre>\n"
      ],
      "text/plain": []
     },
     "metadata": {},
     "output_type": "display_data"
    },
    {
     "data": {
      "text/html": [
       "<pre style=\"white-space:pre;overflow-x:auto;line-height:normal;font-family:Menlo,'DejaVu Sans Mono',consolas,'Courier New',monospace\">\n",
       "</pre>\n"
      ],
      "text/plain": [
       "\n"
      ]
     },
     "metadata": {},
     "output_type": "display_data"
    },
    {
     "name": "stdout",
     "output_type": "stream",
     "text": [
      "Predicted boxes (before filtering): 1\n",
      "Predicted boxes: 1\n",
      "tmp_infer_tj7QUnlr.pcd\n",
      "https://dev.supervise.ly/app/point-clouds/?datasetId=81541&pointCloudId=29334617\n"
     ]
    }
   ],
   "source": [
    "# 4 cars\n",
    "# pcd_path = \"app_data/lyft/LYFT/pointcloud/host-a005_lidar1_1231201454801395736.pcd\"\n",
    "# many cars\n",
    "# pcd_path = \"app_data/lyft/LYFT/pointcloud/host-a005_lidar1_1231201437602160096.pcd\"\n",
    "# smarttool_crop\n",
    "# pcd_path = \"app_data/smarttool_crops_tiny/train/pointcloud/5.pcd\"\n",
    "\n",
    "# extract idx\n",
    "pcd_idx = -5\n",
    "ann_item = data_info['data_list'][pcd_idx]\n",
    "pcd_path = os.path.join(\"app_data/smarttool_crops_tiny\", ann_item['lidar_points']['lidar_path'])\n",
    "centerize_vector = ann_item['centerize_vector']\n",
    "\n",
    "_, ext = os.path.splitext(pcd_path)\n",
    "is_bin = ext == \".bin\"\n",
    "\n",
    "# Make config\n",
    "# loading existed 'cfg_model' is unsafe, because of inappropriate pipelines\n",
    "cfg = Config.fromfile(cfg_model)\n",
    "model_class_names = cfg.class_names\n",
    "print(f\"Model class names: {model_class_names}\")\n",
    "\n",
    "# add classes to project meta\n",
    "need_update = False\n",
    "for class_name in model_class_names:\n",
    "    if project_meta.get_obj_class(class_name) is None:\n",
    "        from supervisely.geometry.cuboid_3d import Cuboid3d\n",
    "        project_meta = project_meta.add_obj_class(sly.ObjClass(class_name, Cuboid3d))\n",
    "        print(f\"Added class {class_name} to project meta.\")\n",
    "        need_update = True\n",
    "if need_update:\n",
    "    api.project.update_meta(project_id, project_meta.to_json())\n",
    "    api.project.pull_meta_ids(project_id, project_meta)\n",
    "\n",
    "# Inference\n",
    "if is_bin:\n",
    "    inferencer = LidarDet3DInferencer(cfg_model, weights_url, device='cuda:0')\n",
    "else:\n",
    "    inferencer = PcdDet3DInferencer(cfg_model, weights_url, device='cuda:0')\n",
    "\n",
    "results_dict = inferencer(inputs=dict(points=pcd_path), no_save_vis=True)\n",
    "\n",
    "predictions = results_dict['predictions'][0]\n",
    "bboxes_3d = predictions['bboxes_3d']\n",
    "labels_3d = predictions['labels_3d']\n",
    "scores_3d = predictions['scores_3d']\n",
    "print(f\"Predicted boxes (before filtering): {len(bboxes_3d)}\")\n",
    "bboxes_3d, labels_3d, scores_3d = filter_by_confidence(bboxes_3d, labels_3d, scores_3d, threshold=0.3)\n",
    "bboxes_3d = [up_bbox3d(bbox3d) for bbox3d in bboxes_3d]\n",
    "print(f\"Predicted boxes: {len(bboxes_3d)}\")\n",
    "\n",
    "# Centerize\n",
    "for bbox3d in bboxes_3d:\n",
    "    bbox3d[:3] -= centerize_vector\n",
    "\n",
    "# Create annotation\n",
    "ann = create_sly_annotation(bboxes_3d, labels_3d, model_class_names, project_meta)\n",
    "\n",
    "# Upload pcd\n",
    "if is_bin:\n",
    "    convert_bin_to_pcd(pcd_path, \"tmp.pcd\")\n",
    "    pcd_path = \"tmp.pcd\"\n",
    "name = \"tmp_infer_\"+sly.rand_str(8)+\".pcd\"\n",
    "pcd_info = upload_point_cloud(api, dataset_id, pcd_path, name=name)\n",
    "\n",
    "# Upload annotation\n",
    "pcd_id = pcd_info.id\n",
    "api.pointcloud.annotation.append(pcd_id, ann)\n",
    "\n",
    "print(name)\n",
    "print(f\"https://dev.supervise.ly/app/point-clouds/?datasetId={dataset_id}&pointCloudId={pcd_id}\")\n"
   ]
  },
  {
   "cell_type": "code",
   "execution_count": 28,
   "metadata": {},
   "outputs": [
    {
     "data": {
      "text/plain": [
       "Compose(\n",
       "    <src.inference.pcd_loader.PCDLoader object at 0x7f93fe307fa0>\n",
       "    <src.dataset.centerize_transform.Centerize object at 0x7f93fe307730>\n",
       "    MultiScaleFlipAug3D(transforms=Compose(\n",
       "    GlobalRotScaleTrans(rot_range=[0, 0], scale_ratio_range=[1.0, 1.0], translation_std=[0, 0, 0], shift_height=False)\n",
       "    RandomFlip3D(sync_2d=True, flip_ratio_bev_vertical=0.0)\n",
       "    PointsRangeFilter(point_cloud_range=[-54.0, -54.0, -5.0, 54.0, 54.0, 3.0])\n",
       "), img_scale=[(1333, 600)], flip=False, pts_scale_ratio=[1.0], flip_direction=['horizontal'])\n",
       "    Pack3DDetInputs(keys=['points'])(meta_keys=('img_path', 'ori_shape', 'img_shape', 'lidar2img', 'depth2img', 'cam2img', 'pad_shape', 'scale_factor', 'flip', 'pcd_horizontal_flip', 'pcd_vertical_flip', 'box_mode_3d', 'box_type_3d', 'img_norm_cfg', 'num_pts_feats', 'pcd_trans', 'sample_idx', 'pcd_scale_factor', 'pcd_rotation', 'pcd_rotation_angle', 'lidar_path', 'transformation_3d_flow', 'trans_mat', 'affine_aug', 'sweep_img_metas', 'ori_cam2img', 'cam2global', 'crop_offset', 'img_crop_offset', 'resize_img_shape', 'lidar2cam', 'ori_lidar2img', 'num_ref_frames', 'num_views', 'ego2global', 'axis_align_matrix'))\n",
       ")"
      ]
     },
     "execution_count": 28,
     "metadata": {},
     "output_type": "execute_result"
    }
   ],
   "source": [
    "inferencer._init_pipeline(cfg)"
   ]
  }
 ],
 "metadata": {
  "kernelspec": {
   "display_name": "Python 3",
   "language": "python",
   "name": "python3"
  },
  "language_info": {
   "codemirror_mode": {
    "name": "ipython",
    "version": 3
   },
   "file_extension": ".py",
   "mimetype": "text/x-python",
   "name": "python",
   "nbconvert_exporter": "python",
   "pygments_lexer": "ipython3",
   "version": "3.8.10"
  }
 },
 "nbformat": 4,
 "nbformat_minor": 2
}
