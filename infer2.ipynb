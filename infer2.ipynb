{
 "cells": [
  {
   "cell_type": "code",
   "execution_count": 5,
   "metadata": {},
   "outputs": [],
   "source": [
    "import os\n",
    "import re\n",
    "import supervisely as sly\n",
    "from mmengine.config import Config\n",
    "from mmdet3d.apis import LidarDet3DInferencer\n",
    "from src.tests.extract_weights_url import find_weights_url\n",
    "from src.sly_utils import download_point_cloud, upload_point_cloud, add_classes_to_project_meta\n",
    "from src.inference.pcd_inferencer import PcdDet3DInferencer\n",
    "from src.inference.functional import create_sly_annotation, up_bbox3d, filter_by_confidence\n",
    "from src.pcd_utils import convert_bin_to_pcd\n",
    "import json\n",
    "\n",
    "# To import projects\n",
    "import os, sys\n",
    "sys.path.append(os.path.abspath(\"mmdetection3d\"))\n",
    "\n",
    "# turn off warnings\n",
    "import warnings\n",
    "warnings.filterwarnings(\"ignore\")\n",
    "\n",
    "\n",
    "# globals    \n",
    "api = sly.Api()\n",
    "workspace_id = 992\n",
    "# create project with pointclouds\n",
    "project_info = api.project.get_or_create(workspace_id, \"PointPillars\", sly.ProjectType.POINT_CLOUDS)\n",
    "project_id = project_info.id\n",
    "dataset_info = api.dataset.get_or_create(project_id, \"test\")\n",
    "dataset_id = dataset_info.id\n",
    "project_meta = sly.ProjectMeta.from_json(api.project.get_meta(project_id))\n",
    "\n",
    "# pcd_path = \"app_data/lyft/LYFT/pointcloud/host-a005_lidar1_1231201454801395736.pcd\"\n",
    "pcd_path = \"app_data/lyft/LYFT/pointcloud/host-a005_lidar1_1231201437602160096.pcd\"\n",
    "# pcd_path = \"app_data/sly_project/ds0/pointcloud/000021.pcd\"  # KITTI\n",
    "is_bin = False\n",
    "\n",
    "with open(\"model_list.json\", \"r\") as f:\n",
    "    model_list = json.load(f)[\"detection_3d\"]"
   ]
  },
  {
   "cell_type": "code",
   "execution_count": 3,
   "metadata": {},
   "outputs": [
    {
     "data": {
      "application/vnd.jupyter.widget-view+json": {
       "model_id": "e93fd4200e3644ef9cf38d5ebd1eace2",
       "version_major": 2,
       "version_minor": 0
      },
      "text/plain": [
       "Output()"
      ]
     },
     "metadata": {},
     "output_type": "display_data"
    },
    {
     "name": "stdout",
     "output_type": "stream",
     "text": [
      "Model: PointPillars (mmdetection3d/configs/pointpillars/pointpillars_hv_secfpn_8xb6-160e_kitti-3d-3class.py)\n",
      "Model class names: ['Pedestrian', 'Cyclist', 'Car']\n",
      "Loads checkpoint by http backend from path: https://download.openmmlab.com/mmdetection3d/v1.0.0_models/pointpillars/hv_pointpillars_secfpn_6x8_160e_kitti-3d-3class/hv_pointpillars_secfpn_6x8_160e_kitti-3d-3class_20220301_150306-37dc2420.pth\n"
     ]
    },
    {
     "data": {
      "text/html": [
       "<pre style=\"white-space:pre;overflow-x:auto;line-height:normal;font-family:Menlo,'DejaVu Sans Mono',consolas,'Courier New',monospace\"></pre>\n"
      ],
      "text/plain": []
     },
     "metadata": {},
     "output_type": "display_data"
    },
    {
     "data": {
      "text/html": [
       "<pre style=\"white-space:pre;overflow-x:auto;line-height:normal;font-family:Menlo,'DejaVu Sans Mono',consolas,'Courier New',monospace\">\n",
       "</pre>\n"
      ],
      "text/plain": [
       "\n"
      ]
     },
     "metadata": {},
     "output_type": "display_data"
    },
    {
     "name": "stdout",
     "output_type": "stream",
     "text": [
      "Predicted boxes (before filtering): 29\n",
      "Predicted boxes: 0\n"
     ]
    }
   ],
   "source": [
    "pcd_path = \"lyft.pcd\"\n",
    "\n",
    "model = model_list[1]\n",
    "config_info = model[\"pre_trained_configs\"][1]  # or 2\n",
    "cfg_model = \"mmdetection3d/\"+config_info[\"config\"]\n",
    "weights_url = config_info[\"weights\"]\n",
    "name = model[\"name\"]\n",
    "print(f\"Model: {name} ({cfg_model})\")\n",
    "\n",
    "# Make config\n",
    "cfg = Config.fromfile(cfg_model)\n",
    "model_class_names = cfg.class_names\n",
    "trained_dataset_name = cfg.dataset_type\n",
    "print(f\"Model class names: {model_class_names}\")\n",
    "zero_aux_dims = cfg.dataset_type == \"KittiDataset\"\n",
    "\n",
    "# Update project_meta\n",
    "# project_meta = add_classes_to_project_meta(api, project_meta, project_id, model_class_names)\n",
    "\n",
    "# Inference\n",
    "if is_bin:\n",
    "    inferencer = LidarDet3DInferencer(cfg_model, weights_url, device='cuda:0')\n",
    "else:\n",
    "    inferencer = PcdDet3DInferencer(cfg_model, weights_url, device='cuda:0', zero_aux_dims=zero_aux_dims)\n",
    "\n",
    "results_dict = inferencer(inputs=dict(points=pcd_path), no_save_vis=True)\n",
    "predictions = results_dict['predictions'][0]\n",
    "bboxes_3d, labels_3d, scores_3d = predictions['bboxes_3d'], predictions['labels_3d'], predictions['scores_3d']\n",
    "print(f\"Predicted boxes (before filtering): {len(bboxes_3d)}\")\n",
    "bboxes_3d, labels_3d, scores_3d = filter_by_confidence(bboxes_3d, labels_3d, scores_3d, threshold=0.45)\n",
    "bboxes_3d = [up_bbox3d(bbox3d) for bbox3d in bboxes_3d]\n",
    "print(f\"Predicted boxes: {len(bboxes_3d)}\")\n",
    "\n",
    "# Create annotation\n",
    "# ann = create_sly_annotation(bboxes_3d, labels_3d, model_class_names, project_meta)\n",
    "# # Upload pointcloud\n",
    "# name = f\"{name}_{trained_dataset_name}_\"+sly.rand_str(4)+\".pcd\"\n",
    "# pcd_info = upload_point_cloud(api, dataset_id, pcd_path, name=name)\n",
    "# # Upload annotation\n",
    "# pcd_id = pcd_info.id\n",
    "# api.pointcloud.annotation.append(pcd_id, ann)\n",
    "\n",
    "# print(f\"DONE: {name}\")\n",
    "# print(f\"https://dev.supervise.ly/app/point-clouds/?datasetId={dataset_id}&pointCloudId={pcd_id}\")"
   ]
  },
  {
   "cell_type": "code",
   "execution_count": null,
   "metadata": {},
   "outputs": [],
   "source": [
    "def visualize_predictions(predictions, conf_thres, pcd_path, name):\n",
    "    global project_meta, project_id, dataset_id, model_class_names, api\n",
    "    bboxes_3d, labels_3d, scores_3d = predictions['bboxes_3d'], predictions['labels_3d'], predictions['scores_3d']\n",
    "    print(f\"Predicted boxes (before filtering): {len(bboxes_3d)}\")\n",
    "    bboxes_3d, labels_3d, scores_3d = filter_by_confidence(bboxes_3d, labels_3d, scores_3d, threshold=conf_thres)\n",
    "    bboxes_3d = [up_bbox3d(bbox3d) for bbox3d in bboxes_3d]\n",
    "    print(f\"Predicted boxes: {len(bboxes_3d)}\")\n",
    "\n",
    "    # Update project_meta\n",
    "    project_meta = add_classes_to_project_meta(api, project_meta, project_id, model_class_names)\n",
    "    # Create annotation\n",
    "    ann = create_sly_annotation(bboxes_3d, labels_3d, model_class_names, project_meta)\n",
    "    # Upload pointcloud\n",
    "    pcd_info = upload_point_cloud(api, dataset_id, pcd_path, name=name)\n",
    "    # Upload annotation\n",
    "    pcd_id = pcd_info.id\n",
    "    api.pointcloud.annotation.append(pcd_id, ann)\n",
    "\n",
    "    print(f\"DONE: {name}\")\n",
    "    print(f\"https://dev.supervise.ly/app/point-clouds/?datasetId={dataset_id}&pointCloudId={pcd_id}\")"
   ]
  },
  {
   "cell_type": "code",
   "execution_count": null,
   "metadata": {},
   "outputs": [
    {
     "name": "stdout",
     "output_type": "stream",
     "text": [
      "Predicted boxes (before filtering): 12\n",
      "Predicted boxes: 4\n",
      "DONE: pp_kitti_predicts_lyft_3.pcd\n",
      "https://dev.supervise.ly/app/point-clouds/?datasetId=83438&pointCloudId=29162893\n"
     ]
    }
   ],
   "source": [
    "inputs = list(inferencer.preprocess([dict(points=pcd_path_lyft)]))\n",
    "inputs[0]['inputs']['points'][0][:, -1] = 0.\n",
    "res = inferencer.forward(inputs[0])\n",
    "predictions = inferencer.postprocess(res, no_save_pred=True)['predictions'][0]\n",
    "visualize_predictions(predictions, 0.4, pcd_path_lyft, \"pp_kitti_predicts_lyft_3.pcd\")"
   ]
  },
  {
   "cell_type": "code",
   "execution_count": null,
   "metadata": {},
   "outputs": [
    {
     "data": {
      "text/plain": [
       "PointcloudInfo(id=29162918, frame=None, description='', name='lyft_filtered_4.pcd', team_id=None, workspace_id=None, project_id=None, dataset_id=83438, link=None, hash='GiSuzuapscz7GGwAW9/xmt53Ih9pOnzGXn0+A6h/vK4=', path_original='/h5un6l2bnaz1vj8a9qgms4-public/point_clouds/g/J/Uj/4IYh0PG99zDE9v1rZYblXl3jEI3ZEk8v9p3Y4FGpTMjZ84wtQlZsoadCqHaS54B7mrvBeaKA9ZP5BkNrzIoj8XJtHiue8ULt0DjP6cScFChKtwjCTMhumZpYfnqt.pcd', cloud_mime='image/pcd', figures_count=None, objects_count=None, tags=None, meta={}, created_at='2024-01-12T14:15:29.432Z', updated_at='2024-01-12T14:15:29.432Z')"
      ]
     },
     "execution_count": 111,
     "metadata": {},
     "output_type": "execute_result"
    }
   ],
   "source": [
    "inputs = list(inferencer.preprocess([dict(points=pcd_path_lyft)]))\n",
    "save_pcd(inputs[0]['inputs']['points'][0].cpu().numpy(), \"lyft_filtered.pcd\")\n",
    "upload_point_cloud(api, dataset_id, \"lyft_filtered.pcd\", name=\"lyft_filtered_4.pcd\")"
   ]
  },
  {
   "cell_type": "code",
   "execution_count": null,
   "metadata": {},
   "outputs": [
    {
     "data": {
      "text/plain": [
       "15.907563"
      ]
     },
     "execution_count": 109,
     "metadata": {},
     "output_type": "execute_result"
    }
   ],
   "source": [
    "inputs[0]['inputs']['points'][0].cpu().numpy()[:, 1].max()"
   ]
  },
  {
   "cell_type": "code",
   "execution_count": null,
   "metadata": {},
   "outputs": [
    {
     "data": {
      "text/plain": [
       "0.18807882687141156"
      ]
     },
     "execution_count": 70,
     "metadata": {},
     "output_type": "execute_result"
    }
   ],
   "source": [
    "res = inferencer.forward(inputs[0])\n",
    "res = inferencer.postprocess(res, no_save_pred=True)['predictions'][0]\n",
    "np.mean(res['scores_3d'])"
   ]
  },
  {
   "cell_type": "code",
   "execution_count": null,
   "metadata": {},
   "outputs": [],
   "source": [
    "inferencer.cfg.test_dataloader.dataset.pipeline[1]['transforms'][-1]['point_cloud_range'] = [0, 0, -3, 70.4, 40, 1]"
   ]
  },
  {
   "cell_type": "code",
   "execution_count": null,
   "metadata": {},
   "outputs": [
    {
     "data": {
      "text/plain": [
       "Compose(\n",
       "    <src.inference.pcd_loader.PCDLoader object at 0x7fee65530a90>\n",
       "    MultiScaleFlipAug3D(transforms=Compose(\n",
       "    GlobalRotScaleTrans(rot_range=[0, 0], scale_ratio_range=[1.0, 1.0], translation_std=[0, 0, 0], shift_height=False)\n",
       "    RandomFlip3D(sync_2d=True, flip_ratio_bev_vertical=0.0)\n",
       "    PointsRangeFilter(point_cloud_range=[0.0, 0.0, -3.0, 70.4000015258789, 40.0, 1.0])\n",
       "), img_scale=[(1333, 800)], flip=False, pts_scale_ratio=[1.0], flip_direction=['horizontal'])\n",
       "    Pack3DDetInputs(keys=['points'])(meta_keys=('img_path', 'ori_shape', 'img_shape', 'lidar2img', 'depth2img', 'cam2img', 'pad_shape', 'scale_factor', 'flip', 'pcd_horizontal_flip', 'pcd_vertical_flip', 'box_mode_3d', 'box_type_3d', 'img_norm_cfg', 'num_pts_feats', 'pcd_trans', 'sample_idx', 'pcd_scale_factor', 'pcd_rotation', 'pcd_rotation_angle', 'lidar_path', 'transformation_3d_flow', 'trans_mat', 'affine_aug', 'sweep_img_metas', 'ori_cam2img', 'cam2global', 'crop_offset', 'img_crop_offset', 'resize_img_shape', 'lidar2cam', 'ori_lidar2img', 'num_ref_frames', 'num_views', 'ego2global', 'axis_align_matrix'))\n",
       ")"
      ]
     },
     "execution_count": 102,
     "metadata": {},
     "output_type": "execute_result"
    }
   ],
   "source": [
    "inferencer._init_pipeline(cfg)"
   ]
  },
  {
   "cell_type": "code",
   "execution_count": null,
   "metadata": {},
   "outputs": [
    {
     "data": {
      "text/plain": [
       "LiDARPoints(\n",
       "    tensor([[65.9970,  3.6680,  2.4440],\n",
       "        [65.9590,  3.8740,  2.4430],\n",
       "        [65.6950,  4.0650,  2.4350],\n",
       "        [50.4730,  3.2770,  1.9190],\n",
       "        [65.4670,  4.4640,  2.4280],\n",
       "        [65.5510,  4.5730,  2.4310],\n",
       "        [77.1930,  5.8780,  2.8270],\n",
       "        [43.0870,  3.4060,  1.6710],\n",
       "        [42.4870,  3.4920,  1.6510],\n",
       "        [42.2620,  3.6070,  1.6430],\n",
       "        [42.2650,  3.6740,  1.6440],\n",
       "        [40.1150,  3.6130,  1.5710],\n",
       "        [39.4170,  3.6750,  1.5480],\n",
       "        [39.2740,  3.7860,  1.5430],\n",
       "        [36.3020,  3.6120,  1.4430],\n",
       "        [35.0410,  3.7080,  1.4010],\n",
       "        [33.9000,  3.7490,  1.3620],\n",
       "        [33.8900,  3.8550,  1.3630],\n",
       "        [33.8880,  3.9630,  1.3630],\n",
       "        [33.9190,  4.0750,  1.3640]]))"
      ]
     },
     "execution_count": 25,
     "metadata": {},
     "output_type": "execute_result"
    }
   ],
   "source": [
    "from src.inference.pcd_loader import PCDLoader\n",
    "pcd_path_lyft = \"app_data/lyft/LYFT/pointcloud/host-a005_lidar1_1231201437602160096.pcd\"\n",
    "pcd_path_kitti = \"app_data/sly_project/ds0/pointcloud/000021.pcd\"  # KITTI\n",
    "\n",
    "loader = PCDLoader(use_dim=5)\n",
    "loader.transform({\"points\": pcd_path_kitti})['points'][:20, :3]"
   ]
  },
  {
   "cell_type": "code",
   "execution_count": null,
   "metadata": {},
   "outputs": [
    {
     "name": "stdout",
     "output_type": "stream",
     "text": [
      "https://dev.supervise.ly/app/point-clouds/?datasetId=83438&pointCloudId=29162812\n"
     ]
    }
   ],
   "source": [
    "import numpy as np\n",
    "from src.pcd_utils import save_pcd\n",
    "pcd_np_kitti = loader.transform({\"points\": pcd_path_kitti})['points'].numpy()\n",
    "pcd_np_lyft = loader.transform({\"points\": pcd_path_lyft})['points'].numpy()\n",
    "save_pcd(pcd_np_kitti, \"kitti.pcd\")\n",
    "save_pcd(pcd_np_lyft, \"lyft.pcd\")\n",
    "pcd_np_mix = np.concatenate([pcd_np_kitti, pcd_np_lyft], axis=0)\n",
    "save_pcd(pcd_np_mix, \"mix.pcd\")\n",
    "\n",
    "# upload\n",
    "name = \"mix.pcd\"\n",
    "pcd_info = upload_point_cloud(api, dataset_id, \"mix.pcd\", name=name)\n",
    "\n",
    "name = \"kitti.pcd\"\n",
    "pcd_info = upload_point_cloud(api, dataset_id, \"kitti.pcd\", name=name)\n",
    "\n",
    "name = \"lyft.pcd\"\n",
    "pcd_info = upload_point_cloud(api, dataset_id, \"lyft.pcd\", name=name)\n",
    "\n",
    "print(f\"https://dev.supervise.ly/app/point-clouds/?datasetId={dataset_id}&pointCloudId={pcd_info.id}\")"
   ]
  },
  {
   "cell_type": "code",
   "execution_count": null,
   "metadata": {},
   "outputs": [
    {
     "data": {
      "text/plain": [
       "0.3034299"
      ]
     },
     "execution_count": 32,
     "metadata": {},
     "output_type": "execute_result"
    }
   ],
   "source": [
    "pcd_np_mix[:, 3][:10]\n",
    "# get avg intensity for kitti\n",
    "pcd_np_kitti[:, 3].mean()"
   ]
  },
  {
   "cell_type": "code",
   "execution_count": null,
   "metadata": {},
   "outputs": [
    {
     "name": "stdout",
     "output_type": "stream",
     "text": [
      "125260\n",
      "62364\n"
     ]
    }
   ],
   "source": [
    "# get num points for kitti and  lyft\n",
    "print(pcd_np_kitti.shape[0])\n",
    "print(pcd_np_lyft.shape[0])"
   ]
  },
  {
   "cell_type": "code",
   "execution_count": null,
   "metadata": {},
   "outputs": [
    {
     "data": {
      "text/plain": [
       "{'type': 'NuScenesDataset',\n",
       " 'data_root': 'data/nuscenes/',\n",
       " 'ann_file': 'nuscenes_infos_val.pkl',\n",
       " 'pipeline': [{'type': 'LoadPointsFromFile',\n",
       "   'coord_type': 'LIDAR',\n",
       "   'load_dim': 5,\n",
       "   'use_dim': 5,\n",
       "   'backend_args': None},\n",
       "  {'type': 'LoadPointsFromMultiSweeps',\n",
       "   'sweeps_num': 10,\n",
       "   'test_mode': True,\n",
       "   'backend_args': None},\n",
       "  {'type': 'MultiScaleFlipAug3D',\n",
       "   'img_scale': (1333, 800),\n",
       "   'pts_scale_ratio': 1,\n",
       "   'flip': False,\n",
       "   'transforms': [{'type': 'GlobalRotScaleTrans',\n",
       "     'rot_range': [0, 0],\n",
       "     'scale_ratio_range': [1.0, 1.0],\n",
       "     'translation_std': [0, 0, 0]},\n",
       "    {'type': 'RandomFlip3D'},\n",
       "    {'type': 'PointsRangeFilter',\n",
       "     'point_cloud_range': [-50, -50, -5, 50, 50, 3]}]},\n",
       "  {'type': 'Pack3DDetInputs', 'keys': ['points']}],\n",
       " 'metainfo': {'classes': ['car',\n",
       "   'truck',\n",
       "   'trailer',\n",
       "   'bus',\n",
       "   'construction_vehicle',\n",
       "   'bicycle',\n",
       "   'motorcycle',\n",
       "   'pedestrian',\n",
       "   'traffic_cone',\n",
       "   'barrier']},\n",
       " 'modality': {'use_lidar': True, 'use_camera': False},\n",
       " 'data_prefix': {'pts': 'samples/LIDAR_TOP',\n",
       "  'img': '',\n",
       "  'sweeps': 'sweeps/LIDAR_TOP'},\n",
       " 'test_mode': True,\n",
       " 'box_type_3d': 'LiDAR',\n",
       " 'backend_args': None}"
      ]
     },
     "execution_count": 15,
     "metadata": {},
     "output_type": "execute_result"
    }
   ],
   "source": [
    "cfg.test_dataloader.dataset"
   ]
  }
 ],
 "metadata": {
  "kernelspec": {
   "display_name": "Python 3",
   "language": "python",
   "name": "python3"
  },
  "language_info": {
   "codemirror_mode": {
    "name": "ipython",
    "version": 3
   },
   "file_extension": ".py",
   "mimetype": "text/x-python",
   "name": "python",
   "nbconvert_exporter": "python",
   "pygments_lexer": "ipython3",
   "version": "3.8.10"
  }
 },
 "nbformat": 4,
 "nbformat_minor": 2
}
