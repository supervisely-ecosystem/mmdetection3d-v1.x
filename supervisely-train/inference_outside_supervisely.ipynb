{
 "cells": [
  {
   "cell_type": "markdown",
   "metadata": {},
   "source": [
    "# How To Export a Model Trained in Supervisely\n",
    "\n",
    "After you have trained a model using Supervisely application, you can download its weights and config file, and use the model outside Supervisely Platform."
   ]
  },
  {
   "cell_type": "markdown",
   "metadata": {},
   "source": [
    "## 1. Download model weights and config from Team Files\n",
    "\n",
    "Go to Team Files and download model weights and config. They are located in `/mmdetection3d-v1.x`\n",
    "\n",
    "![Team Files](img/download_mmdet3d.png)"
   ]
  },
  {
   "cell_type": "markdown",
   "metadata": {},
   "source": [
    "**Alternatively, you can download these files using Supervisely API:**"
   ]
  },
  {
   "cell_type": "code",
   "execution_count": null,
   "metadata": {},
   "outputs": [],
   "source": [
    "# Install supervisely SDK if not installed\n",
    "!pip install supervisely"
   ]
  },
  {
   "cell_type": "code",
   "execution_count": null,
   "metadata": {},
   "outputs": [],
   "source": [
    "# Fill in these arguments:\n",
    "server_address = \"https://...\"\n",
    "api_token = \"abcd0123456789...\"\n",
    "team_id = ...\n",
    "path_to_weights_in_team_files = ...\n",
    "path_to_config_in_team_files = ...\n",
    "download_dir = \"./my_model\"\n",
    "\n",
    "import supervisely as sly\n",
    "api = sly.Api(server_address, api_token)\n",
    "api.file.download(team_id, path_to_weights_in_team_files, f\"{download_dir}/weights.pth\")\n",
    "api.file.download(team_id, path_to_config_in_team_files, f\"{download_dir}/config.py\")"
   ]
  },
  {
   "cell_type": "markdown",
   "metadata": {},
   "source": [
    "## 2. Install requirements"
   ]
  },
  {
   "cell_type": "markdown",
   "metadata": {},
   "source": [
    "**You can use our pre-builded docker image:**\n",
    "\n",
    "`supervisely/mmdet3d-v1.x:1.0.1`\n",
    "\n",
    "Or build the image using this [Dockerfile](docker/mmdet3d-v1.x.Dockerfile)."
   ]
  },
  {
   "cell_type": "markdown",
   "metadata": {},
   "source": [
    "**Alternatively, you can install only needed requirements with pip:**"
   ]
  },
  {
   "cell_type": "code",
   "execution_count": null,
   "metadata": {},
   "outputs": [],
   "source": [
    "!pip install torch==2.1.0 torchvision==0.16.0 --index-url https://download.pytorch.org/whl/cu118\n",
    "!pip install -U openmim\n",
    "!mim install mmengine 'mmcv>=2.0.0rc4' 'mmdet>=3.0.0' 'mmdet3d>=1.1.0'\n",
    "\n",
    "# To convert .pcd to .bin\n",
    "!pip install git+https://github.com/DanielPollithy/pypcd.git\n",
    "\n",
    "# Boost GPU perfomance (optional)\n",
    "!pip install spconv-cu118 cumm-cu118\n",
    "\n",
    "# Fix issue with open3d\n",
    "!pip install Werkzeug==2.2.3\n",
    "!pip install numpy==1.22.0"
   ]
  },
  {
   "cell_type": "markdown",
   "metadata": {},
   "source": [
    "## 3. Build the model"
   ]
  },
  {
   "cell_type": "markdown",
   "metadata": {},
   "source": [
    "After you've installed requirements and downloaded model weights and config, **fill in the paths** where the files located:"
   ]
  },
  {
   "cell_type": "code",
   "execution_count": 8,
   "metadata": {},
   "outputs": [],
   "source": [
    "# Insert your paths here:\n",
    "weights_path = \"my_model/epoch_20.pth\"\n",
    "config_path = \"my_model/config.py\""
   ]
  },
  {
   "cell_type": "code",
   "execution_count": 2,
   "metadata": {},
   "outputs": [
    {
     "name": "stdout",
     "output_type": "stream",
     "text": [
      "Jupyter environment detected. Enabling Open3D WebVisualizer.\n",
      "[Open3D INFO] WebRTC GUI backend enabled.\n",
      "[Open3D INFO] WebRTCWindowSystem: HTTP handshake server disabled.\n"
     ]
    }
   ],
   "source": [
    "from typing import Optional, Union, List\n",
    "from mmdet3d.apis import LidarDet3DInferencer\n",
    "from mmdet3d.utils import ConfigType\n",
    "from mmdet3d.registry import DATASETS, TRANSFORMS\n",
    "from mmdet3d.datasets.det3d_dataset import Det3DDataset\n",
    "from mmdet3d.datasets.transforms import LoadPointsFromFile\n",
    "from mmdet3d.structures.bbox_3d import get_box_type\n",
    "from mmengine.dataset import Compose\n",
    "from mmcv.transforms.base import BaseTransform\n",
    "import open3d as o3d\n",
    "import numpy as np\n",
    "\n",
    "\n",
    "def up_bbox3d(bbox3d: list):\n",
    "    # z += h / 2\n",
    "    bbox3d = bbox3d.copy()\n",
    "    bbox3d[2] += bbox3d[5] / 2\n",
    "    return bbox3d\n",
    "\n",
    "\n",
    "@TRANSFORMS.register_module()\n",
    "class LoadPointsFromPcdFile(LoadPointsFromFile):\n",
    "    \n",
    "    def __init__(self,\n",
    "                 coord_type: str,\n",
    "                 load_dim: int = 6,\n",
    "                 use_dim: Union[int, List[int]] = [0, 1, 2],\n",
    "                 shift_height: bool = False,\n",
    "                 use_color: bool = False,\n",
    "                 norm_intensity: bool = False,\n",
    "                 norm_elongation: bool = False,\n",
    "                 backend_args: Optional[dict] = None,\n",
    "                 zero_aux_dims: bool = False\n",
    "                 ) -> None:\n",
    "        super().__init__(coord_type, load_dim, use_dim, shift_height, use_color, norm_intensity, norm_elongation, backend_args)\n",
    "        self.zero_aux_dims = zero_aux_dims\n",
    "\n",
    "    def _load_points(self, pts_filename: str) -> np.ndarray:\n",
    "        pcd = o3d.io.read_point_cloud(pts_filename)\n",
    "        xyz = np.asarray(pcd.points, dtype=np.float32)\n",
    "        if self.load_dim > 3:\n",
    "            aux_dims = self.load_dim - 3\n",
    "            if pcd.has_colors() and not self.zero_aux_dims:\n",
    "                rgb = np.asarray(pcd.colors, dtype=np.float32)\n",
    "            else:\n",
    "                rgb = np.zeros((xyz.shape[0], aux_dims), dtype=np.float32)\n",
    "            points = np.concatenate([xyz, rgb[:, :aux_dims]], 1)\n",
    "        else:\n",
    "            points = xyz\n",
    "        return points\n",
    "\n",
    "\n",
    "@TRANSFORMS.register_module()\n",
    "class PCDLoader(BaseTransform):\n",
    "    \"\"\"Load point cloud in the Inferencer's pipeline.\n",
    "\n",
    "    Added keys:\n",
    "      - points\n",
    "      - timestamp\n",
    "      - axis_align_matrix\n",
    "      - box_type_3d\n",
    "      - box_mode_3d\n",
    "    \"\"\"\n",
    "\n",
    "    def __init__(self, coord_type='LIDAR', zero_aux_dims: bool = False, **kwargs) -> None:\n",
    "        super().__init__()\n",
    "        self.from_file = TRANSFORMS.build(\n",
    "            dict(type='LoadPointsFromPcdFile', coord_type=coord_type, zero_aux_dims=zero_aux_dims, **kwargs))\n",
    "        self.from_ndarray = TRANSFORMS.build(\n",
    "            dict(type='LoadPointsFromDict', coord_type=coord_type, **kwargs))\n",
    "        self.box_type_3d, self.box_mode_3d = get_box_type(coord_type)\n",
    "\n",
    "    def transform(self, single_input: dict) -> dict:\n",
    "        \"\"\"Transform function to add image meta information.\n",
    "        Args:\n",
    "            single_input (dict): Single input.\n",
    "\n",
    "        Returns:\n",
    "            dict: The dict contains loaded image and meta information.\n",
    "        \"\"\"\n",
    "        assert 'points' in single_input, \"key 'points' must be in input dict\"\n",
    "        if isinstance(single_input['points'], str):\n",
    "            inputs = dict(\n",
    "                lidar_points=dict(lidar_path=single_input['points']),\n",
    "                timestamp=1,\n",
    "                # for ScanNet demo we need axis_align_matrix\n",
    "                axis_align_matrix=np.eye(4),\n",
    "                box_type_3d=self.box_type_3d,\n",
    "                box_mode_3d=self.box_mode_3d)\n",
    "        elif isinstance(single_input['points'], np.ndarray):\n",
    "            inputs = dict(\n",
    "                points=single_input['points'],\n",
    "                timestamp=1,\n",
    "                # for ScanNet demo we need axis_align_matrix\n",
    "                axis_align_matrix=np.eye(4),\n",
    "                box_type_3d=self.box_type_3d,\n",
    "                box_mode_3d=self.box_mode_3d)\n",
    "        else:\n",
    "            raise ValueError('Unsupported input points type: '\n",
    "                             f\"{type(single_input['points'])}\")\n",
    "\n",
    "        if 'points' in inputs:\n",
    "            return self.from_ndarray(inputs)\n",
    "        return self.from_file(inputs)\n",
    "\n",
    "\n",
    "class PcdDet3DInferencer(LidarDet3DInferencer):\n",
    "\n",
    "    def __init__(self,\n",
    "                 model: Union[str, None] = None,\n",
    "                 weights: Optional[str] = None,\n",
    "                 device: Optional[str] = None,\n",
    "                 zero_aux_dims: bool = False,\n",
    "                 scope: str = 'mmdet3d',\n",
    "                 palette: str = 'none',\n",
    "                 ) -> None:\n",
    "        self.zero_aux_dims = zero_aux_dims\n",
    "        super().__init__(\n",
    "            model=model,\n",
    "            weights=weights,\n",
    "            device=device,\n",
    "            scope=scope,\n",
    "            palette=palette)\n",
    "\n",
    "    def _init_pipeline(self, cfg: ConfigType) -> Compose:\n",
    "        \"\"\"Initialize the test pipeline.\"\"\"\n",
    "        pipeline_cfg = cfg.test_dataloader.dataset.pipeline\n",
    "\n",
    "        load_point_idx = self._get_transform_idx(pipeline_cfg, 'LoadPointsFromFile')\n",
    "        if load_point_idx == -1:\n",
    "            load_point_idx = self._get_transform_idx(pipeline_cfg, 'LoadPointsFromPcdFile')\n",
    "        \n",
    "        if load_point_idx == -1:\n",
    "            raise ValueError(\n",
    "                'LoadPointsFromFile/LoadPointsFromPcdFile is not found in the test pipeline')\n",
    "\n",
    "        load_cfg = pipeline_cfg[load_point_idx]\n",
    "        self.coord_type, self.load_dim = load_cfg['coord_type'], load_cfg[\n",
    "            'load_dim']\n",
    "        self.use_dim = list(range(load_cfg['use_dim'])) if isinstance(\n",
    "            load_cfg['use_dim'], int) else load_cfg['use_dim']\n",
    "\n",
    "        pipeline_cfg[load_point_idx]['type'] = 'PCDLoader'\n",
    "        pipeline_cfg[load_point_idx]['zero_aux_dims'] = self.zero_aux_dims\n",
    "        return Compose(pipeline_cfg)\n",
    "\n",
    "    def _init_visualizer(self, cfg: ConfigType):\n",
    "        return None\n",
    "    \n",
    "\n",
    "@DATASETS.register_module()\n",
    "class CustomDataset(Det3DDataset):\n",
    "    def __init__(self, *args, **kwargs):\n",
    "        self.METAINFO = {\"classes\": kwargs[\"selected_classes\"], \"palette\": []}\n",
    "        self._metainfo = self.METAINFO\n",
    "        # self.METAINFO = {\"classes\": kwargs[\"selected_classes\"], \"palette\": []}\n",
    "        # super().__init__(*args, **kwargs)"
   ]
  },
  {
   "cell_type": "code",
   "execution_count": 3,
   "metadata": {},
   "outputs": [
    {
     "name": "stdout",
     "output_type": "stream",
     "text": [
      "Loads checkpoint by local backend from path: my_model/epoch_20.pth\n",
      "03/14 14:29:34 - mmengine - \u001b[5m\u001b[4m\u001b[33mWARNING\u001b[0m - Failed to search registry with scope \"mmdet3d\" in the \"function\" registry tree. As a workaround, the current \"function\" registry in \"mmengine\" is used to build instance. This may cause unexpected failure when running the built modules. Please check whether \"mmdet3d\" is a correct scope, or whether the registry is initialized.\n"
     ]
    }
   ],
   "source": [
    "from mmengine import Config\n",
    "\n",
    "device = \"cuda:0\"\n",
    "cfg = Config.fromfile(config_path)\n",
    "classes = cfg.train_dataloader.dataset.selected_classes\n",
    "model = PcdDet3DInferencer(cfg, weights_path, device)"
   ]
  },
  {
   "cell_type": "markdown",
   "metadata": {},
   "source": [
    "## 4. Inference"
   ]
  },
  {
   "cell_type": "code",
   "execution_count": 23,
   "metadata": {},
   "outputs": [
    {
     "data": {
      "application/vnd.jupyter.widget-view+json": {
       "model_id": "1b6aaa0c65cb4f18b79854b535bc4bde",
       "version_major": 2,
       "version_minor": 0
      },
      "text/plain": [
       "Output()"
      ]
     },
     "metadata": {},
     "output_type": "display_data"
    },
    {
     "data": {
      "text/html": [
       "<pre style=\"white-space:pre;overflow-x:auto;line-height:normal;font-family:Menlo,'DejaVu Sans Mono',consolas,'Courier New',monospace\"></pre>\n"
      ],
      "text/plain": []
     },
     "metadata": {},
     "output_type": "display_data"
    },
    {
     "data": {
      "text/html": [
       "<pre style=\"white-space:pre;overflow-x:auto;line-height:normal;font-family:Menlo,'DejaVu Sans Mono',consolas,'Courier New',monospace\">\n",
       "</pre>\n"
      ],
      "text/plain": [
       "\n"
      ]
     },
     "metadata": {},
     "output_type": "display_data"
    }
   ],
   "source": [
    "pcd_path = \"tmp.pcd\"\n",
    "conf_thresh = 0.4\n",
    "\n",
    "results_dict = model(inputs=dict(points=pcd_path), no_save_vis=True)\n",
    "\n",
    "predictions = results_dict[\"predictions\"][0]\n",
    "bboxes_3d = predictions[\"bboxes_3d\"]\n",
    "labels_3d = predictions[\"labels_3d\"]\n",
    "scores_3d = predictions[\"scores_3d\"]\n",
    "\n",
    "result = []\n",
    "for bbox3d, label3d, score3d in zip(bboxes_3d, labels_3d, scores_3d):\n",
    "    if score3d < conf_thresh:\n",
    "        continue\n",
    "    result.append({\n",
    "        \"bbox3d\": up_bbox3d(bbox3d),  # [x, y, z, w, l, h, rot_z]\n",
    "        \"label\": classes[label3d],\n",
    "        \"score\": score3d\n",
    "    })"
   ]
  },
  {
   "cell_type": "code",
   "execution_count": 25,
   "metadata": {},
   "outputs": [
    {
     "data": {
      "text/plain": [
       "[{'bbox3d': [13.755786895751953,\n",
       "   2.1196670532226562,\n",
       "   -0.8083688616752625,\n",
       "   3.9115381240844727,\n",
       "   2.611595392227173,\n",
       "   1.5770412683486938,\n",
       "   -2.5685808658599854,\n",
       "   3.72103725609918e-09,\n",
       "   4.733932135181362e-10],\n",
       "  'label': 'Car',\n",
       "  'score': 0.4739571809768677},\n",
       " {'bbox3d': [29.394603729248047,\n",
       "   8.114307403564453,\n",
       "   -1.0389283299446106,\n",
       "   3.4990007877349854,\n",
       "   1.987350583076477,\n",
       "   1.35783851146698,\n",
       "   -2.474350929260254,\n",
       "   3.72103725609918e-09,\n",
       "   4.733932135181362e-10],\n",
       "  'label': 'Car',\n",
       "  'score': 0.44827646017074585},\n",
       " {'bbox3d': [7.485008239746094,\n",
       "   -0.120880126953125,\n",
       "   -1.2826476097106934,\n",
       "   3.7444984912872314,\n",
       "   2.1186046600341797,\n",
       "   1.1602580547332764,\n",
       "   -2.5160534381866455,\n",
       "   -0.0019796208944171667,\n",
       "   0.0009996920125558972],\n",
       "  'label': 'Car',\n",
       "  'score': 0.40709176659584045}]"
      ]
     },
     "execution_count": 25,
     "metadata": {},
     "output_type": "execute_result"
    }
   ],
   "source": [
    "result"
   ]
  }
 ],
 "metadata": {
  "kernelspec": {
   "display_name": "Python 3",
   "language": "python",
   "name": "python3"
  },
  "language_info": {
   "codemirror_mode": {
    "name": "ipython",
    "version": 3
   },
   "file_extension": ".py",
   "mimetype": "text/x-python",
   "name": "python",
   "nbconvert_exporter": "python",
   "pygments_lexer": "ipython3",
   "version": "3.8.10"
  }
 },
 "nbformat": 4,
 "nbformat_minor": 2
}
