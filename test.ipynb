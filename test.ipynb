{
 "cells": [
  {
   "cell_type": "code",
   "execution_count": 1,
   "metadata": {},
   "outputs": [],
   "source": [
    "from src.sly_utils import download_project"
   ]
  },
  {
   "cell_type": "code",
   "execution_count": 2,
   "metadata": {},
   "outputs": [],
   "source": [
    "import supervisely as sly\n",
    "api = sly.Api()\n",
    "project_id = 34717\n",
    "info = api.project.get_info_by_id(project_id)\n",
    "download_project(api, info, \"app_data/smarttool_crops_tiny\")"
   ]
  },
  {
   "cell_type": "code",
   "execution_count": 1,
   "metadata": {},
   "outputs": [
    {
     "name": "stdout",
     "output_type": "stream",
     "text": [
      "Jupyter environment detected. Enabling Open3D WebVisualizer.\n",
      "[Open3D INFO] WebRTC GUI backend enabled.\n",
      "[Open3D INFO] WebRTCWindowSystem: HTTP handshake server disabled.\n"
     ]
    },
    {
     "name": "stderr",
     "output_type": "stream",
     "text": [
      "/usr/local/lib/python3.8/dist-packages/mmdet3d/evaluation/functional/kitti_utils/eval.py:10: NumbaDeprecationWarning: \u001b[1mThe 'nopython' keyword argument was not supplied to the 'numba.jit' decorator. The implicit default value for this argument is currently False, but it will be changed to True in Numba 0.59.0. See https://numba.readthedocs.io/en/stable/reference/deprecation.html#deprecation-of-object-mode-fall-back-behaviour-when-using-jit for details.\u001b[0m\n",
      "  def get_thresholds(scores: np.ndarray, num_gt, num_sample_pts=41):\n"
     ]
    }
   ],
   "source": [
    "import mmengine\n",
    "from src.dataset.make_infos import collect_mmdet3d_info\n",
    "project_dir = \"app_data/smarttool_crops_tiny\"\n",
    "mmdet3d_info = collect_mmdet3d_info(project_dir, \"detection\")\n",
    "mmengine.dump(mmdet3d_info, f\"{project_dir}/infos_train.pkl\")\n",
    "mmengine.dump(mmdet3d_info, f\"{project_dir}/infos_val.pkl\")"
   ]
  },
  {
   "cell_type": "code",
   "execution_count": 5,
   "metadata": {},
   "outputs": [
    {
     "data": {
      "text/plain": [
       "{'lidar_points': {'lidar_path': 'val/pointcloud/160.pcd', 'num_pts_feats': 6},\n",
       " 'images': {},\n",
       " 'instances': [{'bbox_3d': [38.8181037902832,\n",
       "    20.23398780822754,\n",
       "    -0.8008762001991273,\n",
       "    1.47,\n",
       "    4.05,\n",
       "    1.53,\n",
       "    -1.58],\n",
       "   'bbox_label_3d': 0}],\n",
       " 'cam_instances': None,\n",
       " 'centerize_vector': array([-36.96401 , -19.701609,   0.      ], dtype=float32)}"
      ]
     },
     "execution_count": 5,
     "metadata": {},
     "output_type": "execute_result"
    }
   ],
   "source": [
    "mmdet3d_info[\"data_list\"][0]"
   ]
  },
  {
   "cell_type": "code",
   "execution_count": 10,
   "metadata": {},
   "outputs": [],
   "source": [
    "import json\n",
    "import os\n",
    "import shutil\n",
    "from mmdet3d.apis import Base3DInferencer"
   ]
  },
  {
   "cell_type": "code",
   "execution_count": 12,
   "metadata": {},
   "outputs": [],
   "source": [
    "mmdetection3d_root_dir = Base3DInferencer._get_repo_or_mim_dir(\"mmdet3d\")\n",
    "model_list = list(reversed(json.load(open('model_list.json'))['detection_3d']))"
   ]
  },
  {
   "cell_type": "markdown",
   "metadata": {},
   "source": [
    "## Copy configs"
   ]
  },
  {
   "cell_type": "code",
   "execution_count": null,
   "metadata": {},
   "outputs": [],
   "source": [
    "dst_dir = \"detection3d_configs\"\n",
    "if os.path.exists(dst_dir):\n",
    "    shutil.rmtree(dst_dir)\n",
    "os.makedirs(dst_dir)\n",
    "\n",
    "# Copy base_configs to dst_dir/base\n",
    "# Copy pre_trained_configs to dst_dir/pre_trained\n",
    "os.makedirs(os.path.join(dst_dir, \"base\"))\n",
    "os.makedirs(os.path.join(dst_dir, \"pre_trained\"))\n",
    "for model in model_list:\n",
    "    model_name = model['model_name']\n",
    "    base_configs = model.get('base_configs', [])\n",
    "    pre_trained_configs = model.get('pre_trained_configs', [])\n",
    "    for config in base_configs:\n",
    "        src = os.path.join(mmdetection3d_root_dir, config)\n",
    "        dst = os.path.join(dst_dir, \"base\", os.path.basename(config))\n",
    "        shutil.copy(src, dst)\n",
    "    for pre_trained_config in pre_trained_configs:\n",
    "        config = pre_trained_config['config']\n",
    "        src = os.path.join(mmdetection3d_root_dir, config)\n",
    "        dst = os.path.join(dst_dir, \"pre_trained\", os.path.basename(config))\n",
    "        shutil.copy(src, dst)"
   ]
  },
  {
   "cell_type": "code",
   "execution_count": 27,
   "metadata": {},
   "outputs": [
    {
     "name": "stdout",
     "output_type": "stream",
     "text": [
      "{'name': 'CenterPoint', 'paper': 'CVPR', 'year': 2021, 'model_name': 'centerpoint', 'base_configs': ['configs/_base_/models/centerpoint_voxel01_second_secfpn_nus.py', 'configs/_base_/models/centerpoint_pillar02_second_secfpn_nus.py'], 'pre_trained_configs': [{'config': 'configs/centerpoint/centerpoint_voxel01_second_secfpn_head-circlenms_8xb4-cyclic-20e_nus-3d.py', 'weights': 'https://download.openmmlab.com/mmdetection3d/v1.0.0_models/centerpoint/centerpoint_01voxel_second_secfpn_circlenms_4x8_cyclic_20e_nus/centerpoint_01voxel_second_secfpn_circlenms_4x8_cyclic_20e_nus_20220810_030004-9061688e.pth', 'metadata': {'Training Memory (GB)': 5.2}, 'results': [{'Task': '3D Object Detection', 'Dataset': 'nuScenes', 'Metrics': {'mAP': 56.11, 'NDS': 64.61}}]}, {'config': 'configs/centerpoint/centerpoint_voxel01_second_secfpn_head-dcn-circlenms_8xb4-cyclic-20e_nus-3d.py', 'weights': 'https://download.openmmlab.com/mmdetection3d/v1.0.0_models/centerpoint/centerpoint_01voxel_second_secfpn_dcn_circlenms_4x8_cyclic_20e_nus/centerpoint_01voxel_second_secfpn_dcn_circlenms_4x8_cyclic_20e_nus_20220810_052355-a6928835.pth', 'metadata': {'Training Memory (GB)': 5.5}, 'results': [{'Task': '3D Object Detection', 'Dataset': 'nuScenes', 'Metrics': {'mAP': 56.1, 'NDS': 64.69}}]}, {'config': 'configs/centerpoint/centerpoint_voxel0075_second_secfpn_head-circlenms_8xb4-cyclic-20e_nus-3d.py', 'weights': 'https://download.openmmlab.com/mmdetection3d/v1.0.0_models/centerpoint/centerpoint_0075voxel_second_secfpn_circlenms_4x8_cyclic_20e_nus/centerpoint_0075voxel_second_secfpn_circlenms_4x8_cyclic_20e_nus_20220810_011659-04cb3a3b.pth', 'metadata': {'Training Memory (GB)': 8.2}, 'results': [{'Task': '3D Object Detection', 'Dataset': 'nuScenes', 'Metrics': {'mAP': 56.54, 'NDS': 65.17}}]}, {'config': 'configs/centerpoint/centerpoint_voxel0075_second_secfpn_head-dcn-circlenms_8xb4-cyclic-20e_nus-3d.py', 'weights': 'https://download.openmmlab.com/mmdetection3d/v1.0.0_models/centerpoint/centerpoint_0075voxel_second_secfpn_dcn_circlenms_4x8_cyclic_20e_nus/centerpoint_0075voxel_second_secfpn_dcn_circlenms_4x8_cyclic_20e_nus_20220810_025930-657f67e0.pth', 'metadata': {'Training Memory (GB)': 8.7}, 'results': [{'Task': '3D Object Detection', 'Dataset': 'nuScenes', 'Metrics': {'mAP': 56.92, 'NDS': 65.27}}]}, {'config': 'configs/centerpoint/centerpoint_pillar02_second_secfpn_head-circlenms_8xb4-cyclic-20e_nus-3d.py', 'weights': 'https://download.openmmlab.com/mmdetection3d/v1.0.0_models/centerpoint/centerpoint_02pillar_second_secfpn_circlenms_4x8_cyclic_20e_nus/centerpoint_02pillar_second_secfpn_circlenms_4x8_cyclic_20e_nus_20220811_031844-191a3822.pth', 'metadata': {'Training Memory (GB)': 4.6}, 'results': [{'Task': '3D Object Detection', 'Dataset': 'nuScenes', 'Metrics': {'mAP': 48.7, 'NDS': 59.62}}]}, {'config': 'configs/centerpoint/centerpoint_pillar02_second_secfpn_head-dcn_8xb4-cyclic-20e_nus-3d.py', 'weights': 'https://download.openmmlab.com/mmdetection3d/v1.0.0_models/centerpoint/centerpoint_02pillar_second_secfpn_dcn_4x8_cyclic_20e_nus/centerpoint_02pillar_second_secfpn_dcn_4x8_cyclic_20e_nus_20220811_045458-808e69ad.pth', 'metadata': {'Training Memory (GB)': 4.9}, 'results': [{'Task': '3D Object Detection', 'Dataset': 'nuScenes', 'Metrics': {'mAP': 48.38, 'NDS': 59.79}}]}]}\n"
     ]
    }
   ],
   "source": [
    "from mmengine.config import Config, ConfigDict\n",
    "\n",
    "# 1. Get model config\n",
    "mmdetection3d_root_dir = \"mmdetection3d\"\n",
    "model_list = list(reversed(json.load(open('model_list.json'))['detection_3d']))\n",
    "\n",
    "model_item = model_list[0]\n",
    "print(model_item)\n",
    "\n",
    "model_name = model_item['model_name']\n",
    "base_configs = model_item['base_configs']\n",
    "\n",
    "is_pre_trained = False\n",
    "config_path = f\"{mmdetection3d_root_dir}/{base_configs[0]}\"\n",
    "\n",
    "\n",
    "# 2. Read parameters from config file\n",
    "cfg = Config.fromfile(config_path)"
   ]
  },
  {
   "cell_type": "code",
   "execution_count": 58,
   "metadata": {},
   "outputs": [],
   "source": [
    "from mmengine import Config\n",
    "from src.config_factory.config_parameters import ConfigParameters\n",
    "import re\n",
    "p = ConfigParameters()\n",
    "p.voxel_size = [0.55, 0.55, 0.15]\n",
    "\n",
    "config_path = \"/root/mmdetection3d-v1.x/detection3d_configs/base/centerpoint_pillar02_second_secfpn_nus.py\"\n",
    "cfg = Config.fromfile(config_path)\n",
    "text = cfg.text\n",
    "\n",
    "\n",
    "# substitute \"voxel_size = [0.2, 0.2, 8]\"\n",
    "search_res = re.search(\"voxel_size\\s*=\\s*\\[[0-9.]+,\\s*[0-9.]+,\\s*[0-9.]+\\]\", text)\n",
    "if search_res:\n",
    "    text = re.sub(\"voxel_size\\s*=\\s*\\[[0-9.]+,\\s*[0-9.]+,\\s*[0-9.]+\\]\", f\"voxel_size={p.voxel_size}\", text, count=1)\n",
    "else:\n",
    "    print(\"voxel_size not found in config\")\n"
   ]
  },
  {
   "cell_type": "code",
   "execution_count": 64,
   "metadata": {},
   "outputs": [],
   "source": [
    "import os\n",
    "# remove first string in text, as it is a path to config file\n",
    "first_string = re.search(\"^.*\\n\", text).group(0)\n",
    "if os.path.exists(first_string.strip()):\n",
    "    text = re.sub(\"^.*\\n\", \"\", text, count=1)\n"
   ]
  },
  {
   "cell_type": "code",
   "execution_count": 69,
   "metadata": {},
   "outputs": [],
   "source": [
    "cfg.get(\"point_cloud_range\")"
   ]
  },
  {
   "cell_type": "code",
   "execution_count": 60,
   "metadata": {},
   "outputs": [
    {
     "name": "stdout",
     "output_type": "stream",
     "text": [
      "/root/mmdetection3d-v1.x/detection3d_configs/base/centerpoint_pillar02_second_secfpn_nus.py\n",
      "voxel_size=[0.55, 0.55, 0.15]\n",
      "model = dict(\n",
      "    type='CenterPoint',\n",
      "    data_preprocessor=dict(\n",
      "        type='Det3DDataPreprocessor',\n",
      "        voxel=True,\n",
      "        voxel_layer=dict(\n",
      "            max_num_points=20,\n",
      "            voxel_size=voxel_size,\n",
      "            max_voxels=(30000, 40000))),\n",
      "    pts_voxel_encoder=dict(\n",
      "        type='PillarFeatureNet',\n",
      "        in_channels=5,\n",
      "        feat_channels=[64],\n",
      "        with_distance=False,\n",
      "        voxel_size=(0.2, 0.2, 8),\n",
      "        norm_cfg=dict(type='BN1d', eps=1e-3, momentum=0.01),\n",
      "        legacy=False),\n",
      "    pts_middle_encoder=dict(\n",
      "        type='PointPillarsScatter', in_channels=64, output_shape=(512, 512)),\n",
      "    pts_backbone=dict(\n",
      "        type='SECOND',\n",
      "        in_channels=64,\n",
      "        out_channels=[64, 128, 256],\n",
      "        layer_nums=[3, 5, 5],\n",
      "        layer_strides=[2, 2, 2],\n",
      "        norm_cfg=dict(type='BN', eps=1e-3, momentum=0.01),\n",
      "        conv_cfg=dict(type='Conv2d', bias=False)),\n",
      "    pts_neck=dict(\n",
      "        type='SECONDFPN',\n",
      "        in_channels=[64, 128, 256],\n",
      "        out_channels=[128, 128, 128],\n",
      "        upsample_strides=[0.5, 1, 2],\n",
      "        norm_cfg=dict(type='BN', eps=1e-3, momentum=0.01),\n",
      "        upsample_cfg=dict(type='deconv', bias=False),\n",
      "        use_conv_for_no_stride=True),\n",
      "    pts_bbox_head=dict(\n",
      "        type='CenterHead',\n",
      "        in_channels=sum([128, 128, 128]),\n",
      "        tasks=[\n",
      "            dict(num_class=1, class_names=['car']),\n",
      "            dict(num_class=2, class_names=['truck', 'construction_vehicle']),\n",
      "            dict(num_class=2, class_names=['bus', 'trailer']),\n",
      "            dict(num_class=1, class_names=['barrier']),\n",
      "            dict(num_class=2, class_names=['motorcycle', 'bicycle']),\n",
      "            dict(num_class=2, class_names=['pedestrian', 'traffic_cone']),\n",
      "        ],\n",
      "        common_heads=dict(\n",
      "            reg=(2, 2), height=(1, 2), dim=(3, 2), rot=(2, 2), vel=(2, 2)),\n",
      "        share_conv_channel=64,\n",
      "        bbox_coder=dict(\n",
      "            type='CenterPointBBoxCoder',\n",
      "            post_center_range=[-61.2, -61.2, -10.0, 61.2, 61.2, 10.0],\n",
      "            max_num=500,\n",
      "            score_threshold=0.1,\n",
      "            out_size_factor=4,\n",
      "            voxel_size=voxel_size[:2],\n",
      "            code_size=9),\n",
      "        separate_head=dict(\n",
      "            type='SeparateHead', init_bias=-2.19, final_kernel=3),\n",
      "        loss_cls=dict(type='mmdet.GaussianFocalLoss', reduction='mean'),\n",
      "        loss_bbox=dict(\n",
      "            type='mmdet.L1Loss', reduction='mean', loss_weight=0.25),\n",
      "        norm_bbox=True),\n",
      "    # model training and testing settings\n",
      "    train_cfg=dict(\n",
      "        pts=dict(\n",
      "            grid_size=[512, 512, 1],\n",
      "            voxel_size=voxel_size,\n",
      "            out_size_factor=4,\n",
      "            dense_reg=1,\n",
      "            gaussian_overlap=0.1,\n",
      "            max_objs=500,\n",
      "            min_radius=2,\n",
      "            code_weights=[1.0, 1.0, 1.0, 1.0, 1.0, 1.0, 1.0, 1.0, 0.2, 0.2])),\n",
      "    test_cfg=dict(\n",
      "        pts=dict(\n",
      "            post_center_limit_range=[-61.2, -61.2, -10.0, 61.2, 61.2, 10.0],\n",
      "            max_per_img=500,\n",
      "            max_pool_nms=False,\n",
      "            min_radius=[4, 12, 10, 1, 0.85, 0.175],\n",
      "            score_threshold=0.1,\n",
      "            pc_range=[-51.2, -51.2],\n",
      "            out_size_factor=4,\n",
      "            voxel_size=voxel_size[:2],\n",
      "            nms_type='rotate',\n",
      "            pre_max_size=1000,\n",
      "            post_max_size=83,\n",
      "            nms_thr=0.2)))\n",
      "\n"
     ]
    }
   ],
   "source": [
    "print(text)"
   ]
  },
  {
   "cell_type": "code",
   "execution_count": 29,
   "metadata": {},
   "outputs": [
    {
     "data": {
      "text/plain": [
       "'asbb'"
      ]
     },
     "execution_count": 29,
     "metadata": {},
     "output_type": "execute_result"
    }
   ],
   "source": [
    "re.sub(\"^.*\\n\", \"\", \"asbb\", count=1)"
   ]
  },
  {
   "cell_type": "code",
   "execution_count": 30,
   "metadata": {},
   "outputs": [],
   "source": [
    "# remove first string in text using regex\n",
    "text = re.sub(\"^.*\\n\", \"\", text, count=1)\n",
    "\n",
    "# 3. cfg = Config.fromtext(text)\n",
    "cfg = Config.fromstring(text, \".py\")\n",
    "\n",
    "# 4. (optional) update config recursively\n",
    "# CenterPoint:\n",
    "\n",
    "cfg.model.pts_voxel_encoder.voxel_size = p.voxel_size  # this was hardcoded in CenterPoint\n"
   ]
  },
  {
   "cell_type": "code",
   "execution_count": 47,
   "metadata": {},
   "outputs": [],
   "source": [
    "import re\n",
    "\n",
    "lidar_dims = 3\n",
    "# substitute in_channels\n",
    "search_res = re.search(\"in_channels\\s*=\\s*[0-6],\", text)\n",
    "if search_res:\n",
    "    text = re.sub(\"in_channels\\s*=\\s*[0-6],\", f\"in_channels={lidar_dims},\", text, count=1)\n",
    "else:\n",
    "    raise ValueError(\"in_channels not found in config\")"
   ]
  },
  {
   "cell_type": "code",
   "execution_count": 48,
   "metadata": {},
   "outputs": [
    {
     "data": {
      "text/plain": [
       "['in_channels=3',\n",
       " 'in_channels=2',\n",
       " 'in_channels=5',\n",
       " 'in_channels=1',\n",
       " 'in_channels=1',\n",
       " 'in_channels=4']"
      ]
     },
     "execution_count": 48,
     "metadata": {},
     "output_type": "execute_result"
    }
   ],
   "source": [
    "re.findall(\"in_channels\\s*=\\s*[0-6]\", text)"
   ]
  }
 ],
 "metadata": {
  "kernelspec": {
   "display_name": "Python 3",
   "language": "python",
   "name": "python3"
  },
  "language_info": {
   "codemirror_mode": {
    "name": "ipython",
    "version": 3
   },
   "file_extension": ".py",
   "mimetype": "text/x-python",
   "name": "python",
   "nbconvert_exporter": "python",
   "pygments_lexer": "ipython3",
   "version": "3.8.10"
  }
 },
 "nbformat": 4,
 "nbformat_minor": 2
}
